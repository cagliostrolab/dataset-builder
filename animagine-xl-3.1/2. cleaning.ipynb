{
 "cells": [
  {
   "cell_type": "markdown",
   "id": "d716dd0d-b976-4094-a56c-f219c17fbca4",
   "metadata": {},
   "source": [
    "## Interrogate "
   ]
  },
  {
   "cell_type": "code",
   "execution_count": 3,
   "id": "c54b2b06-7af1-42f1-9f15-210e580320af",
   "metadata": {},
   "outputs": [
    {
     "name": "stderr",
     "output_type": "stream",
     "text": [
      "Verifying Images:  53%|█████▎    | 7280/13680 [00:02<00:02, 2538.59it/s]/usr/local/lib/python3.10/dist-packages/PIL/TiffImagePlugin.py:850: UserWarning: Corrupt EXIF data.  Expecting to read 4 bytes but only got 0. \n",
      "  warnings.warn(str(msg))\n",
      "Verifying Images: 100%|██████████| 13680/13680 [00:05<00:00, 2449.84it/s]\n"
     ]
    },
    {
     "name": "stdout",
     "output_type": "stream",
     "text": [
      "Verification complete. Found 3408 transparent images and deleted 0 error files out of 13680.\n"
     ]
    }
   ],
   "source": [
    "import os\n",
    "import threading\n",
    "from queue import Queue\n",
    "from tqdm import tqdm\n",
    "from PIL import Image, ImageFile\n",
    "\n",
    "ImageFile.LOAD_TRUNCATED_IMAGES = True\n",
    "Image.MAX_IMAGE_PIXELS = None\n",
    "\n",
    "# Global counters and lists\n",
    "total_files = 0\n",
    "transparent_files = 0\n",
    "error_files = 0\n",
    "transparent_image_paths = [] \n",
    "transparent_lock = threading.Lock()\n",
    "error_lock = threading.Lock()\n",
    "list_lock = threading.Lock() \n",
    "\n",
    "def has_transparency(image_path):\n",
    "    try:\n",
    "        with Image.open(image_path) as img:\n",
    "            if img.mode in ('RGBA', 'LA') or ('transparency' in img.info):\n",
    "                with transparent_lock:\n",
    "                    global transparent_files\n",
    "                    transparent_files += 1\n",
    "                with list_lock:\n",
    "                    transparent_image_paths.append(image_path)  # Append the path to the list\n",
    "                return True\n",
    "    except Exception as e:\n",
    "        print(f\"Error processing {image_path}: {e}. Deleting file.\")\n",
    "        os.remove(image_path)\n",
    "        with error_lock:\n",
    "            global error_files\n",
    "            error_files += 1\n",
    "        return False\n",
    "    return False\n",
    "\n",
    "def worker(queue, pbar):\n",
    "    while True:\n",
    "        image_path = queue.get()\n",
    "        if image_path is None:\n",
    "            queue.task_done()\n",
    "            break\n",
    "        has_transparency(image_path)\n",
    "        queue.task_done()\n",
    "        pbar.update(1)\n",
    "\n",
    "def main(folder_path):\n",
    "    global total_files\n",
    "    image_files = [os.path.join(root, file) for root, dirs, files in os.walk(folder_path) for file in files if file.lower().endswith(('.png', '.jpg', '.jpeg', '.webp', '.bmp'))]\n",
    "    total_files = len(image_files)\n",
    "\n",
    "    queue = Queue()\n",
    "    threads = []\n",
    "    num_worker_threads = 10\n",
    "\n",
    "    with tqdm(total=total_files, desc=\"Verifying Images\") as pbar:\n",
    "        for _ in range(num_worker_threads):\n",
    "            t = threading.Thread(target=worker, args=(queue, pbar))\n",
    "            t.start()\n",
    "            threads.append(t)\n",
    "\n",
    "        for image_path in image_files:\n",
    "            queue.put(image_path)\n",
    "\n",
    "        queue.join()\n",
    "\n",
    "        for _ in range(num_worker_threads):\n",
    "            queue.put(None)\n",
    "        for t in threads:\n",
    "            t.join()\n",
    "\n",
    "    print(f\"Verification complete. Found {transparent_files} transparent images and deleted {error_files} error files out of {total_files}.\")\n",
    "\n",
    "    with open('transparent_images.txt', 'w') as f:\n",
    "        for path in transparent_image_paths:\n",
    "            f.write(f\"{path}\\n\")\n",
    "\n",
    "if __name__ == \"__main__\":\n",
    "    image_folder = \"/workspace/train_data/finale-dataset\"  \n",
    "    main(image_folder)\n"
   ]
  },
  {
   "cell_type": "markdown",
   "id": "48834d62-075a-4ce3-addf-44b963ec8fa6",
   "metadata": {},
   "source": [
    "## Proceed cleaning"
   ]
  },
  {
   "cell_type": "code",
   "execution_count": 2,
   "id": "7d20174f-5c79-40e2-8201-6915ea83eb44",
   "metadata": {},
   "outputs": [
    {
     "name": "stderr",
     "output_type": "stream",
     "text": [
      "Processing Images: 100%|██████████| 4289/4289 [07:39<00:00,  9.33it/s]"
     ]
    },
    {
     "name": "stdout",
     "output_type": "stream",
     "text": [
      "Processing complete. Processed 4289 images.\n"
     ]
    },
    {
     "name": "stderr",
     "output_type": "stream",
     "text": [
      "\n"
     ]
    }
   ],
   "source": [
    "import os\n",
    "import threading\n",
    "from queue import Queue\n",
    "from tqdm import tqdm\n",
    "from PIL import Image, ImageFile\n",
    "\n",
    "ImageFile.LOAD_TRUNCATED_IMAGES = True\n",
    "Image.MAX_IMAGE_PIXELS = None\n",
    "\n",
    "def process_image(image_path):\n",
    "    try:\n",
    "        with Image.open(image_path) as img:\n",
    "            if img.mode in ('RGBA', 'LA') or 'transparency' in img.info:\n",
    "                if img.mode != 'RGBA':\n",
    "                    img = img.convert('RGBA')\n",
    "                \n",
    "                # Create a white background image\n",
    "                white_bg = Image.new('RGBA', img.size, 'WHITE')\n",
    "                img_with_bg = Image.alpha_composite(white_bg, img)\n",
    "                img_with_bg = img_with_bg.convert('RGB')\n",
    "                \n",
    "                img_with_bg.save(image_path)\n",
    "    except Exception as e:\n",
    "        print(f\"Error processing {image_path}: {e}\")\n",
    "\n",
    "def worker(queue, pbar):\n",
    "    while True:\n",
    "        image_path = queue.get()\n",
    "        if image_path is None:\n",
    "            queue.task_done()\n",
    "            break\n",
    "        process_image(image_path)\n",
    "        queue.task_done()\n",
    "        pbar.update(1)\n",
    "\n",
    "def main(file_path):\n",
    "    with open(file_path, 'r') as f:\n",
    "        image_paths = [line.strip() for line in f.readlines()]\n",
    "\n",
    "    total_files = len(image_paths)\n",
    "\n",
    "    queue = Queue()\n",
    "    threads = []\n",
    "    num_worker_threads = 10  \n",
    "\n",
    "    with tqdm(total=total_files, desc=\"Processing Images\") as pbar:\n",
    "        for _ in range(num_worker_threads):\n",
    "            t = threading.Thread(target=worker, args=(queue, pbar))\n",
    "            t.start()\n",
    "            threads.append(t)\n",
    "\n",
    "        for image_path in image_paths:\n",
    "            queue.put(image_path)\n",
    "\n",
    "        queue.join()\n",
    "\n",
    "        for _ in range(num_worker_threads):\n",
    "            queue.put(None)\n",
    "        for t in threads:\n",
    "            t.join()\n",
    "\n",
    "    print(f\"Processing complete. Processed {total_files} images.\")\n",
    "\n",
    "if __name__ == \"__main__\":\n",
    "    txt_file = \"transparent_images.txt\"  \n",
    "    main(txt_file)\n"
   ]
  }
 ],
 "metadata": {
  "kernelspec": {
   "display_name": "Python 3 (ipykernel)",
   "language": "python",
   "name": "python3"
  },
  "language_info": {
   "codemirror_mode": {
    "name": "ipython",
    "version": 3
   },
   "file_extension": ".py",
   "mimetype": "text/x-python",
   "name": "python",
   "nbconvert_exporter": "python",
   "pygments_lexer": "ipython3",
   "version": "3.10.12"
  }
 },
 "nbformat": 4,
 "nbformat_minor": 5
}
